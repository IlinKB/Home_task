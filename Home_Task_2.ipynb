{
 "cells": [
  {
   "cell_type": "markdown",
   "id": "ab4dc503-1403-4e96-bf8b-64b01374ca93",
   "metadata": {},
   "source": [
    "Создайте массив 10х10, заполненный в центре нулями, а по границе единицами.\n"
   ]
  },
  {
   "cell_type": "code",
   "execution_count": 1,
   "id": "c8dc8c74-5dc1-4f4d-aa28-5b5d5c00f019",
   "metadata": {},
   "outputs": [
    {
     "name": "stdout",
     "output_type": "stream",
     "text": [
      "[[1 1 1 1 1 1 1 1 1 1]\n",
      " [1 0 0 0 0 0 0 0 0 1]\n",
      " [1 0 0 0 0 0 0 0 0 1]\n",
      " [1 0 0 0 0 0 0 0 0 1]\n",
      " [1 0 0 0 0 0 0 0 0 1]\n",
      " [1 0 0 0 0 0 0 0 0 1]\n",
      " [1 0 0 0 0 0 0 0 0 1]\n",
      " [1 0 0 0 0 0 0 0 0 1]\n",
      " [1 0 0 0 0 0 0 0 0 1]\n",
      " [1 1 1 1 1 1 1 1 1 1]]\n"
     ]
    }
   ],
   "source": [
    "import numpy as np\n",
    "arr = np.ones((10, 10), dtype=int) \n",
    "arr[1:-1, 1:-1] = 0\n",
    "print(arr)"
   ]
  },
  {
   "cell_type": "markdown",
   "id": "ba5df7fa-1245-4a3f-9a11-b8e9dcccc7d0",
   "metadata": {},
   "source": [
    "2. Создайте массив 8х8, заполненный 0 и 1 в шахматном порядке."
   ]
  },
  {
   "cell_type": "code",
   "execution_count": 2,
   "id": "dd2bf891-819b-47ad-b637-4832de501037",
   "metadata": {},
   "outputs": [
    {
     "name": "stdout",
     "output_type": "stream",
     "text": [
      "[[0 1 0 1 0 1 0 1]\n",
      " [1 0 1 0 1 0 1 0]\n",
      " [0 1 0 1 0 1 0 1]\n",
      " [1 0 1 0 1 0 1 0]\n",
      " [0 1 0 1 0 1 0 1]\n",
      " [1 0 1 0 1 0 1 0]\n",
      " [0 1 0 1 0 1 0 1]\n",
      " [1 0 1 0 1 0 1 0]]\n"
     ]
    }
   ],
   "source": [
    "print(np.tile([[0,1],[1,0]], (4,4)))"
   ]
  },
  {
   "cell_type": "markdown",
   "id": "764a9703-94d1-4321-b22d-4af1e1ddaee4",
   "metadata": {},
   "source": [
    "3. Создайте матрицу 5x5 со значениями 1,2,3,4 под главной диагональю. Остальные значения - нули"
   ]
  },
  {
   "cell_type": "code",
   "execution_count": 3,
   "id": "f7a6988f-5def-4370-b8f6-4a04207128f7",
   "metadata": {},
   "outputs": [
    {
     "name": "stdout",
     "output_type": "stream",
     "text": [
      "[[0 0 0 0 0]\n",
      " [1 0 0 0 0]\n",
      " [0 2 0 0 0]\n",
      " [0 0 3 0 0]\n",
      " [0 0 0 4 0]]\n"
     ]
    }
   ],
   "source": [
    "print(np.diagflat([1,2,3,4], -1))"
   ]
  },
  {
   "cell_type": "markdown",
   "id": "2d28779c-d0ca-4da9-be3f-1096752dc6cb",
   "metadata": {},
   "source": [
    "4. Создайте случайный массив 5х5 и нормируйте его так, чтобы среднее вдоль каждой строки было равно нулю."
   ]
  },
  {
   "cell_type": "code",
   "execution_count": null,
   "id": "0785e530-c19d-4c64-82c7-bf373302bd70",
   "metadata": {},
   "outputs": [],
   "source": []
  },
  {
   "cell_type": "markdown",
   "id": "08b2f509-37ef-4dc6-b4c5-61f7fe0cd516",
   "metadata": {},
   "source": [
    "5. Создайте двумерный массив 10x3, заполненный случайными числами от 0 до 1. В каждой строке выберите значение, наиболее близкое к 0.5."
   ]
  },
  {
   "cell_type": "code",
   "execution_count": 4,
   "id": "333ccab6-3d76-4eb4-8614-1f69160386c3",
   "metadata": {},
   "outputs": [
    {
     "name": "stdout",
     "output_type": "stream",
     "text": [
      "[0.54342178 0.52624691 0.21412229 0.32400784 0.34352735 0.45848791\n",
      " 0.63636164 0.47794593 0.70253299 0.3254688 ]\n"
     ]
    }
   ],
   "source": [
    "arr = np.random.rand(10, 3)\n",
    "print(arr[np.arange(10), np.argmin(np.abs(arr - 0.5), axis=1)])"
   ]
  },
  {
   "cell_type": "markdown",
   "id": "62f81112-3158-4443-a17a-068097c9e0ab",
   "metadata": {},
   "source": [
    "6. Создайте двумерный массив 6x6, заполненный случайными значениями. Сумму по каждой строке поделите на максимальный элемент из столбца с тем же индексом."
   ]
  },
  {
   "cell_type": "code",
   "execution_count": 5,
   "id": "c8b3f16a-ff74-44c5-9e49-409a3b5f4704",
   "metadata": {},
   "outputs": [
    {
     "name": "stdout",
     "output_type": "stream",
     "text": [
      "[ 12.62355531  76.44245279  20.23460299  16.12950499 165.95016107\n",
      "  12.33426277]\n"
     ]
    }
   ],
   "source": [
    "arr = np.random.rand(6, 6)\n",
    "print(arr.sum(axis=1) / arr.min(axis=0))"
   ]
  },
  {
   "cell_type": "markdown",
   "id": "d6fb8d8c-bd9d-4994-81f4-fb9a4d9a74a8",
   "metadata": {},
   "source": [
    "7. На примере массива x = np.array([6, 2, 0, 3, 0, 0, 5, 7, 0]) найдите максимальный элемент в массиве среди элементов, перед которыми стоит ноль."
   ]
  },
  {
   "cell_type": "code",
   "execution_count": 6,
   "id": "91cf2f4e-ec46-45c1-834c-fe8bec174879",
   "metadata": {},
   "outputs": [
    {
     "name": "stdout",
     "output_type": "stream",
     "text": [
      "6\n"
     ]
    }
   ],
   "source": [
    "x = np.array([6, 2, 0, 3, 0, 0, 5, 7, 0])\n",
    "print(np.max(x[(np.where(x == 0)[0] + 1) % 9]))"
   ]
  },
  {
   "cell_type": "markdown",
   "id": "9dbaab4d-c44f-4732-8b74-7e0a27ec29cf",
   "metadata": {},
   "source": [
    "8. Пусть заданы два массива x = np.ones(10) и i = np.array([0, 1, 2, 3, 5, 5, 5, 8]). Прибавьте единицу к тем элементам массива x, индексы которых указаны в массиве i. В случае, если некоторый индекс встретился в массиве i несколько раз, прибавьте к соответствующему элементу массива x число вхождений данного индекса в массив i."
   ]
  },
  {
   "cell_type": "code",
   "execution_count": 8,
   "id": "7273be07-d1ca-4b1a-a406-9bc365d5c6f4",
   "metadata": {},
   "outputs": [
    {
     "name": "stdout",
     "output_type": "stream",
     "text": [
      "[2. 2. 2. 2. 1. 4. 1. 1. 2. 1.]\n"
     ]
    }
   ],
   "source": [
    "x = np.ones(10)\n",
    "i = np.array([0, 1, 2, 3, 5, 5, 5, 8])\n",
    "print(np.bincount(i, minlength=len(x)) + x)"
   ]
  },
  {
   "cell_type": "markdown",
   "id": "81c53bfd-d9e8-4d80-bd27-e386c082eaf0",
   "metadata": {},
   "source": [
    "9. Задайте два массива a = np.array([[1, 4.9, 2.4], [7.1, 7, 9.8], [2, 4.6, 1.2]]) и b = np.array([3, 5, 10, 0]). Создайте массив, в котором каждый элемент первого массива заменен на ближайший к нему элемент второго массива."
   ]
  },
  {
   "cell_type": "code",
   "execution_count": 9,
   "id": "78f9c2b9-aeb0-4e5d-9e13-b2b7df849429",
   "metadata": {},
   "outputs": [
    {
     "name": "stdout",
     "output_type": "stream",
     "text": [
      "[[ 0  5  3]\n",
      " [ 5  5 10]\n",
      " [ 3  5  0]]\n"
     ]
    }
   ],
   "source": [
    "a = np.array([[1, 4.9, 2.4], [7.1, 7, 9.8], [2, 4.6, 1.2]])\n",
    "b = np.array([3, 5, 10, 0])\n",
    "print(b[np.argmin(np.abs(a[:, :, None] - b), axis=2)])"
   ]
  },
  {
   "cell_type": "markdown",
   "id": "8665aea1-b985-44a0-872c-8fcf4f56ba7f",
   "metadata": {},
   "source": [
    "10. Найдите скользящие средние с окном размера 3 по массиву a = np.array([1, 4.9, 2.4, 7.1, 7, 9.8, 2, -5, 4.6, 1.2])."
   ]
  },
  {
   "cell_type": "code",
   "execution_count": 10,
   "id": "ed15ed74-18a8-4a44-b6f8-fb91718e0867",
   "metadata": {},
   "outputs": [
    {
     "name": "stdout",
     "output_type": "stream",
     "text": [
      "[2.76666667 4.8        5.5        7.96666667 6.26666667 2.26666667\n",
      " 0.53333333 0.26666667]\n"
     ]
    }
   ],
   "source": [
    "a = np.array([1, 4.9, 2.4, 7.1, 7, 9.8, 2, -5, 4.6, 1.2])\n",
    "print(np.convolve(a, np.ones(3)/3, mode='valid'))"
   ]
  },
  {
   "cell_type": "code",
   "execution_count": null,
   "id": "64c15672-5f01-4466-89ab-52721d5d0a88",
   "metadata": {},
   "outputs": [],
   "source": []
  }
 ],
 "metadata": {
  "kernelspec": {
   "display_name": "Python [conda env:base] *",
   "language": "python",
   "name": "conda-base-py"
  },
  "language_info": {
   "codemirror_mode": {
    "name": "ipython",
    "version": 3
   },
   "file_extension": ".py",
   "mimetype": "text/x-python",
   "name": "python",
   "nbconvert_exporter": "python",
   "pygments_lexer": "ipython3",
   "version": "3.13.5"
  }
 },
 "nbformat": 4,
 "nbformat_minor": 5
}
