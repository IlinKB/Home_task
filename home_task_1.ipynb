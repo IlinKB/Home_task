{
 "cells": [
  {
   "cell_type": "code",
   "execution_count": 11,
   "id": "0db5c6fa-67f0-4a8e-ac9b-9c835a072316",
   "metadata": {},
   "outputs": [],
   "source": [
    "class Test:\n",
    "    @staticmethod\n",
    "    def assert_equals(a, b, *args, **kwargs):\n",
    "        assert a == b\n",
    "        print('Passed')"
   ]
  },
  {
   "cell_type": "markdown",
   "id": "783c60e4-e47a-44b9-a02b-acf394aec727",
   "metadata": {},
   "source": [
    "problem: https://edabit.com/challenge/MhQbon8XzsG3wJHdP (1 point)\n"
   ]
  },
  {
   "cell_type": "code",
   "execution_count": 3,
   "id": "178908ed-ecd6-4578-8fff-5dff0001305e",
   "metadata": {},
   "outputs": [],
   "source": [
    "def solve_for_exp(a, b):\n",
    "\tx = 1\n",
    "\twhile a ** x != b:\n",
    "\t\tx += 1\n",
    "\treturn x"
   ]
  },
  {
   "cell_type": "code",
   "execution_count": 4,
   "id": "67c6f3e1-e226-451a-a9b3-8d28d64f87fd",
   "metadata": {},
   "outputs": [
    {
     "name": "stdout",
     "output_type": "stream",
     "text": [
      "Passed\n",
      "Passed\n",
      "Passed\n",
      "Passed\n",
      "Passed\n",
      "Passed\n",
      "Passed\n"
     ]
    }
   ],
   "source": [
    "Test.assert_equals(solve_for_exp(4, 1024), 5)\n",
    "Test.assert_equals(solve_for_exp(2, 1024), 10)\n",
    "Test.assert_equals(solve_for_exp(9, 3486784401), 10)\n",
    "Test.assert_equals(solve_for_exp(4, 4294967296), 16)\n",
    "Test.assert_equals(solve_for_exp(8, 134217728), 9)\n",
    "Test.assert_equals(solve_for_exp(19, 47045881), 6)\n",
    "Test.assert_equals(solve_for_exp(10, 100000000), 8)"
   ]
  },
  {
   "cell_type": "markdown",
   "id": "0342ec85-5623-4d72-bcf4-57a9717af933",
   "metadata": {},
   "source": [
    "problem: https://edabit.com/challenge/st8mDxreMcuWxuz8c (3 point)"
   ]
  },
  {
   "cell_type": "code",
   "execution_count": 18,
   "id": "17c70657-2186-4d64-ab32-87d1818cd40e",
   "metadata": {},
   "outputs": [],
   "source": [
    "def pentagonal(num):\n",
    "    k = 1\n",
    "    for i in range(1, num + 1):\n",
    "        k += (5 * (i - 1))\n",
    "    return k"
   ]
  },
  {
   "cell_type": "code",
   "execution_count": 19,
   "id": "78d98436-1362-4261-815d-3f804b1f091d",
   "metadata": {},
   "outputs": [
    {
     "name": "stdout",
     "output_type": "stream",
     "text": [
      "Passed\n",
      "Passed\n",
      "Passed\n",
      "Passed\n",
      "Passed\n",
      "Passed\n",
      "Passed\n",
      "Passed\n",
      "Passed\n",
      "Passed\n",
      "Passed\n"
     ]
    }
   ],
   "source": [
    "Test.assert_equals(pentagonal(1), 1)\n",
    "Test.assert_equals(pentagonal(3), 16)\n",
    "Test.assert_equals(pentagonal(8), 141)\n",
    "Test.assert_equals(pentagonal(10), 226)\n",
    "Test.assert_equals(pentagonal(15), 526)\n",
    "Test.assert_equals(pentagonal(33), 2641)\n",
    "Test.assert_equals(pentagonal(43), 4516)\n",
    "Test.assert_equals(pentagonal(13), 391)\n",
    "Test.assert_equals(pentagonal(50), 6126)\n",
    "Test.assert_equals(pentagonal(62), 9456)\n",
    "Test.assert_equals(pentagonal(21), 1051)"
   ]
  },
  {
   "cell_type": "markdown",
   "id": "76f9a18e-1dc4-4d74-8010-cb4c7dcfceba",
   "metadata": {},
   "source": [
    "problem: https://edabit.com/challenge/2zKetgAJp4WRFXiDT (2 point)"
   ]
  },
  {
   "cell_type": "code",
   "execution_count": 20,
   "id": "b803ef4c-b5d0-4535-a633-06917598750d",
   "metadata": {},
   "outputs": [],
   "source": [
    "def number_length(num):\n",
    "\tk = 1\n",
    "\twhile num >= 10:\n",
    "\t\tnum //= 10\n",
    "\t\tk += 1\n",
    "\treturn k"
   ]
  },
  {
   "cell_type": "code",
   "execution_count": 21,
   "id": "00abdf80-05d6-46b7-be70-d340b4d19fc1",
   "metadata": {},
   "outputs": [
    {
     "name": "stdout",
     "output_type": "stream",
     "text": [
      "Passed\n",
      "Passed\n",
      "Passed\n",
      "Passed\n",
      "Passed\n",
      "Passed\n",
      "Passed\n"
     ]
    }
   ],
   "source": [
    "Test.assert_equals(number_length(10), 2)\n",
    "Test.assert_equals(number_length(5000), 4)\n",
    "Test.assert_equals(number_length(0), 1)\n",
    "Test.assert_equals(number_length(4039182), 7)\n",
    "Test.assert_equals(number_length(9999999999999999), 16)\n",
    "Test.assert_equals(number_length(1), 1)\n",
    "Test.assert_equals(number_length(777777777777777777777777777777), 30)"
   ]
  },
  {
   "cell_type": "markdown",
   "id": "0458d907-8179-428a-9edf-49fb5efabdc6",
   "metadata": {},
   "source": [
    "problem: https://edabit.com/challenge/Wd9cCvFKC3fHzgqSx (4 point)"
   ]
  },
  {
   "cell_type": "code",
   "execution_count": 22,
   "id": "48227078-0a52-4bed-8160-d7018f7b963d",
   "metadata": {},
   "outputs": [],
   "source": [
    "def num_split(num):\n",
    "  m = []\n",
    "  j = 1\n",
    "  x = num\n",
    "  if x < 0:\n",
    "    j = -1\n",
    "  x *=  j \n",
    "  for i in range(0, len(str(x))):\n",
    "    m.append(j * (x % 10 * 10 ** i))\n",
    "    x = (x - (x % 10)) // 10\n",
    "  return m[::-1]"
   ]
  },
  {
   "cell_type": "code",
   "execution_count": 23,
   "id": "1c13015d-35bc-4964-a579-0562f48080b9",
   "metadata": {},
   "outputs": [
    {
     "name": "stdout",
     "output_type": "stream",
     "text": [
      "Passed\n",
      "Passed\n",
      "Passed\n",
      "Passed\n",
      "Passed\n",
      "Passed\n",
      "Passed\n"
     ]
    }
   ],
   "source": [
    "Test.assert_equals(num_split(39), [30, 9])\n",
    "Test.assert_equals(num_split(-434), [-400, -30, -4])\n",
    "Test.assert_equals(num_split(100), [100, 0, 0])\n",
    "Test.assert_equals(num_split(3929), [3000, 900, 20, 9])\n",
    "Test.assert_equals(num_split(10293), [10000, 0, 200, 90, 3])\n",
    "Test.assert_equals(num_split(900), [900, 0, 0])\n",
    "Test.assert_equals(num_split(-100), [-100, 0, 0])"
   ]
  },
  {
   "cell_type": "markdown",
   "id": "820d7c18-15a4-4307-bb7d-d4f17601c5f8",
   "metadata": {},
   "source": [
    "problem: https://edabit.com/challenge/NYEaXXCnSj9jteNWA (3 point)"
   ]
  },
  {
   "cell_type": "code",
   "execution_count": 24,
   "id": "cc7085c6-a2ed-4af6-a38a-42990e13da87",
   "metadata": {},
   "outputs": [],
   "source": [
    "def ave_spd(up_time, up_spd, down_spd):\n",
    "\treturn (2 * up_spd * down_spd) / (down_spd + up_spd)"
   ]
  },
  {
   "cell_type": "code",
   "execution_count": 25,
   "id": "cb057b6b-e00a-4b61-9b22-b2d7b340cbc0",
   "metadata": {},
   "outputs": [
    {
     "name": "stdout",
     "output_type": "stream",
     "text": [
      "Passed\n",
      "Passed\n",
      "Passed\n",
      "Passed\n"
     ]
    }
   ],
   "source": [
    "Test.assert_equals(ave_spd(18, 10, 30), 15)\n",
    "Test.assert_equals(ave_spd(18, 20, 60), 30)\n",
    "Test.assert_equals(ave_spd(30, 10, 30), 15)\n",
    "Test.assert_equals(ave_spd(30, 8, 24), 12)"
   ]
  },
  {
   "cell_type": "markdown",
   "id": "637444d6-e62d-4ed0-ac58-ae8bdf890eaa",
   "metadata": {},
   "source": [
    "problem: https://edabit.com/challenge/Y5Ji2HDnQTX7MxeHt (3 point)"
   ]
  },
  {
   "cell_type": "code",
   "execution_count": 26,
   "id": "a0746ada-4c65-4167-b6f2-d86a009b45c0",
   "metadata": {},
   "outputs": [],
   "source": [
    "def snakefill(n):\n",
    "\tk = 1\n",
    "\tc = 0\n",
    "\tif n == 0:\n",
    "\t\treturn 0\n",
    "\twhile k <= (n * n):\n",
    "\t\tk *= 2\n",
    "\t\tc += 1\n",
    "\treturn c - 1"
   ]
  },
  {
   "cell_type": "code",
   "execution_count": 27,
   "id": "12771483-01da-45ed-8b1b-9c8d72b97163",
   "metadata": {},
   "outputs": [
    {
     "name": "stdout",
     "output_type": "stream",
     "text": [
      "Passed\n",
      "Passed\n",
      "Passed\n",
      "Passed\n",
      "Passed\n",
      "Passed\n",
      "Passed\n",
      "Passed\n",
      "Passed\n"
     ]
    }
   ],
   "source": [
    "Test.assert_equals(snakefill(3), 3)\n",
    "Test.assert_equals(snakefill(6), 5)\n",
    "Test.assert_equals(snakefill(24), 9)\n",
    "Test.assert_equals(snakefill(8), 6)\n",
    "Test.assert_equals(snakefill(18), 8)\n",
    "Test.assert_equals(snakefill(555), 18)\n",
    "Test.assert_equals(snakefill(2), 2)\n",
    "Test.assert_equals(snakefill(1), 0)\n",
    "Test.assert_equals(snakefill(900), 19)"
   ]
  },
  {
   "cell_type": "code",
   "execution_count": null,
   "id": "fe7f9ef7-2322-4a6c-9599-f1f2fa40d4f3",
   "metadata": {},
   "outputs": [],
   "source": []
  }
 ],
 "metadata": {
  "kernelspec": {
   "display_name": "Python [conda env:base] *",
   "language": "python",
   "name": "conda-base-py"
  },
  "language_info": {
   "codemirror_mode": {
    "name": "ipython",
    "version": 3
   },
   "file_extension": ".py",
   "mimetype": "text/x-python",
   "name": "python",
   "nbconvert_exporter": "python",
   "pygments_lexer": "ipython3",
   "version": "3.13.5"
  }
 },
 "nbformat": 4,
 "nbformat_minor": 5
}
